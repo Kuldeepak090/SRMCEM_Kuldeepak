{
 "cells": [
  {
   "cell_type": "markdown",
   "id": "d2b80ab3",
   "metadata": {},
   "source": [
    "Unique Elements Function"
   ]
  },
  {
   "cell_type": "markdown",
   "id": "d8d731de",
   "metadata": {},
   "source": [
    "Write a function unique_elements(lst) that returns a list containing only the unique elements from the given list (order should be preserved)."
   ]
  },
  {
   "cell_type": "code",
   "execution_count": 3,
   "id": "1b6a70b9",
   "metadata": {},
   "outputs": [
    {
     "name": "stdout",
     "output_type": "stream",
     "text": [
      "[1, 2, 3, 4, 5]\n"
     ]
    }
   ],
   "source": [
    "def unique_elements(lst):\n",
    "    element = set()\n",
    "    result = []\n",
    "    for item in lst:\n",
    "        if item not in element:\n",
    "            result.append(item)\n",
    "            element.add(item)\n",
    "    return result\n",
    "\n",
    "data = [1, 2, 2, 3, 4, 1, 5]\n",
    "print(unique_elements(data))  \n"
   ]
  },
  {
   "cell_type": "markdown",
   "id": "27b304f8",
   "metadata": {},
   "source": [
    "List Rotation"
   ]
  },
  {
   "cell_type": "markdown",
   "id": "3bd80b7d",
   "metadata": {},
   "source": [
    "Write a function rotate_list(lst, k) that rotates the elements of a list to the right by k positions."
   ]
  },
  {
   "cell_type": "code",
   "execution_count": 4,
   "id": "074714f9",
   "metadata": {},
   "outputs": [
    {
     "name": "stdout",
     "output_type": "stream",
     "text": [
      "[4, 5, 1, 2, 3]\n"
     ]
    }
   ],
   "source": [
    "def rotate_list(lst, k):\n",
    "    if not lst:  \n",
    "        return []\n",
    "    k = k % len(lst)  \n",
    "    return lst[-k:] + lst[:-k]\n",
    "\n",
    "\n",
    "print(rotate_list([1, 2, 3, 4, 5], 2))  "
   ]
  },
  {
   "cell_type": "markdown",
   "id": "59a6bf7a",
   "metadata": {},
   "source": [
    "Find Longest Word"
   ]
  },
  {
   "cell_type": "markdown",
   "id": "6a85ff12",
   "metadata": {},
   "source": [
    "Write a function longest_word(sentence) that returns the longest word from a given sentence."
   ]
  },
  {
   "cell_type": "code",
   "execution_count": 5,
   "id": "62a1a8db",
   "metadata": {},
   "outputs": [
    {
     "name": "stdout",
     "output_type": "stream",
     "text": [
      "programming\n"
     ]
    }
   ],
   "source": [
    "def longest_word(sentence):\n",
    "    words = sentence.split()           \n",
    "    return max(words, key=len)         \n",
    "\n",
    "print(longest_word(\"Python is an amazing programming language\"))"
   ]
  },
  {
   "cell_type": "markdown",
   "id": "388b2bed",
   "metadata": {},
   "source": [
    "Sum of Digits Function"
   ]
  },
  {
   "cell_type": "markdown",
   "id": "2c8b51d2",
   "metadata": {},
   "source": [
    "Write a function sum_of_digits(num) that calculates and returns the sum of digits of a number."
   ]
  },
  {
   "cell_type": "code",
   "execution_count": 6,
   "id": "e6f3c184",
   "metadata": {},
   "outputs": [
    {
     "name": "stdout",
     "output_type": "stream",
     "text": [
      "15\n"
     ]
    }
   ],
   "source": [
    "def sum_of_digits(num):\n",
    "    num = abs(num)  \n",
    "    return sum(int(digit) for digit in str(num))\n",
    "\n",
    "\n",
    "print(sum_of_digits(12345))"
   ]
  },
  {
   "cell_type": "markdown",
   "id": "8198e10e",
   "metadata": {},
   "source": [
    "Character Frequency Counter"
   ]
  },
  {
   "cell_type": "markdown",
   "id": "e7f1bdbe",
   "metadata": {},
   "source": [
    "Write a function char_frequency(s) that returns a dictionary with characters as keys and their frequency as values."
   ]
  },
  {
   "cell_type": "code",
   "execution_count": 8,
   "id": "f458d02b",
   "metadata": {},
   "outputs": [
    {
     "name": "stdout",
     "output_type": "stream",
     "text": [
      "{'h': 1, 'e': 1, 'l': 2, 'o': 1}\n"
     ]
    }
   ],
   "source": [
    "def char_frequency(s):\n",
    "    freq = {}\n",
    "    for char in s:\n",
    "        freq[char] = freq.get(char, 0) + 1\n",
    "    return freq\n",
    "\n",
    "print(char_frequency(\"hello\"))"
   ]
  },
  {
   "cell_type": "markdown",
   "id": "211b7aba",
   "metadata": {},
   "source": [
    "Loops"
   ]
  },
  {
   "cell_type": "markdown",
   "id": "5b4039de",
   "metadata": {},
   "source": [
    "Numbers Divisible by 3 or 5\n"
   ]
  },
  {
   "cell_type": "markdown",
   "id": "24b265e9",
   "metadata": {},
   "source": [
    " Print all numbers from 1 to 100 that are divisible by 3 or 5 but not both.\n"
   ]
  },
  {
   "cell_type": "code",
   "execution_count": 10,
   "id": "be829124",
   "metadata": {},
   "outputs": [
    {
     "name": "stdout",
     "output_type": "stream",
     "text": [
      "3 5 6 9 10 12 15 18 20 21 24 25 27 30 33 35 36 39 40 42 45 48 50 51 54 55 57 60 63 65 66 69 70 72 75 78 80 81 84 85 87 90 93 95 96 99 100 "
     ]
    }
   ],
   "source": [
    "for i in range(1, 101):\n",
    "    if i % 3 == 0 or i % 5 == 0:\n",
    "        print(i, end=\" \")"
   ]
  },
  {
   "cell_type": "markdown",
   "id": "d94a7586",
   "metadata": {},
   "source": [
    "Reverse Words in a Sentence"
   ]
  },
  {
   "cell_type": "markdown",
   "id": "868122de",
   "metadata": {},
   "source": [
    " Without using Python’s built-in split() and reverse() in one line, reverse the order of words in a sentence using loops"
   ]
  },
  {
   "cell_type": "code",
   "execution_count": 11,
   "id": "5d04797b",
   "metadata": {},
   "outputs": [
    {
     "name": "stdout",
     "output_type": "stream",
     "text": [
      "fun is Python\n"
     ]
    }
   ],
   "source": [
    "sentence = \"Python is fun\"\n",
    "word, words = \"\", []\n",
    "for ch in sentence + \" \":\n",
    "    if ch != \" \":\n",
    "        word += ch\n",
    "    else:\n",
    "        words.append(word)\n",
    "        word = \"\"\n",
    "print(\" \".join(words[::-1]))"
   ]
  },
  {
   "cell_type": "markdown",
   "id": "94c1fcd5",
   "metadata": {},
   "source": [
    "Star Diamond Pattern\n"
   ]
  },
  {
   "cell_type": "markdown",
   "id": "1fb46b88",
   "metadata": {},
   "source": [
    "\n",
    " For n = 5, print a diamond pattern:\n",
    "\n",
    "    *\n",
    "   ***\n",
    "  *****"
   ]
  },
  {
   "cell_type": "code",
   "execution_count": 13,
   "id": "30073169",
   "metadata": {},
   "outputs": [
    {
     "name": "stdout",
     "output_type": "stream",
     "text": [
      "  *\n",
      " ***\n",
      "*****\n"
     ]
    }
   ],
   "source": [
    "n=5\n",
    "for i in range(1, n + 1, 2):  \n",
    "    spaces = (n - i) // 2\n",
    "    stars = i\n",
    "    print(\" \" * spaces + \"*\" * stars)"
   ]
  },
  {
   "cell_type": "markdown",
   "id": "c8d0a9c2",
   "metadata": {},
   "source": [
    "Count Consonants in a String"
   ]
  },
  {
   "cell_type": "markdown",
   "id": "85a51507",
   "metadata": {},
   "source": [
    " Write a program to count how many consonants are in a given string"
   ]
  },
  {
   "cell_type": "code",
   "execution_count": 14,
   "id": "85f86dba",
   "metadata": {},
   "outputs": [
    {
     "name": "stdout",
     "output_type": "stream",
     "text": [
      "7\n"
     ]
    }
   ],
   "source": [
    "text = \"hello world\"\n",
    "vowels = \"aeiouAEIOU\"\n",
    "count = 0\n",
    "\n",
    "for ch in text:\n",
    "    if ch.isalpha() and ch not in vowels:\n",
    "        count += 1\n",
    "\n",
    "print(count)"
   ]
  },
  {
   "cell_type": "markdown",
   "id": "695d8a97",
   "metadata": {},
   "source": [
    "Number Guessing Game"
   ]
  },
  {
   "cell_type": "markdown",
   "id": "517e36a9",
   "metadata": {},
   "source": [
    "Create a loop that keeps asking the user to guess a secret number until they get it right.\n",
    "Guess the number: 5  \n",
    "Wrong, try again.  \n",
    "Guess the number: 8  \n",
    "Correct! You guessed it.\n"
   ]
  },
  {
   "cell_type": "code",
   "execution_count": null,
   "id": "1e5ac548",
   "metadata": {},
   "outputs": [
    {
     "name": "stdout",
     "output_type": "stream",
     "text": [
      "Correct! You guessed it.\n"
     ]
    }
   ],
   "source": [
    "secret_number = 8 \n",
    "guess = None\n",
    "\n",
    "while guess != secret_number:\n",
    "    guess = int(input(\"Guess the number: \"))\n",
    "    if guess != secret_number:\n",
    "        print(\"Wrong, try again.\")\n",
    "    else:\n",
    "        print(\"Correct! You guessed it.\")"
   ]
  }
 ],
 "metadata": {
  "kernelspec": {
   "display_name": "Python 3",
   "language": "python",
   "name": "python3"
  },
  "language_info": {
   "codemirror_mode": {
    "name": "ipython",
    "version": 3
   },
   "file_extension": ".py",
   "mimetype": "text/x-python",
   "name": "python",
   "nbconvert_exporter": "python",
   "pygments_lexer": "ipython3",
   "version": "3.13.6"
  }
 },
 "nbformat": 4,
 "nbformat_minor": 5
}
