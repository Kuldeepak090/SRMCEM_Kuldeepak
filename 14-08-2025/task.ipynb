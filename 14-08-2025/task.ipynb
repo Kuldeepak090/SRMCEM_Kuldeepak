{
 "cells": [
  {
   "cell_type": "markdown",
   "id": "a10adcd0",
   "metadata": {},
   "source": [
    "# Basics & Syntax #"
   ]
  },
  {
   "cell_type": "markdown",
   "id": "00997e76",
   "metadata": {},
   "source": [
    "**What is Python? Mention two of its key features.**\n",
    "\n",
    "Python is a high-level, interpreted programming language known for its simplicity and readability.\n",
    "\n",
    "key features:\n",
    "\n",
    "- Easy to learn & read\n",
    "- Cross-platform"
   ]
  },
  {
   "cell_type": "markdown",
   "id": "cb65d283",
   "metadata": {},
   "source": [
    "**2. How do you write a single-line comment in Python?**\n",
    "\n",
    "#This is a single-line comment"
   ]
  },
  {
   "cell_type": "markdown",
   "id": "43394875",
   "metadata": {},
   "source": [
    "**3. How do you write a multi-line comment in Python?**\n",
    "\n",
    "\"\"\"\n",
    "This is a multi-line comment\n",
    "It can span multiple lines\n",
    "\"\"\""
   ]
  },
  {
   "cell_type": "markdown",
   "id": "d0c2acbb",
   "metadata": {},
   "source": [
    "**4. What is the difference between print() and return?**\n",
    "\n",
    "- print() → Displays output to the console (for the user).\n",
    "\n",
    "- return → Sends a value back from a function to the caller."
   ]
  },
  {
   "cell_type": "markdown",
   "id": "9d365f3c",
   "metadata": {},
   "source": [
    "**5.How do you get user input in Python?**\n",
    "\n",
    "name = input(\"Enter your name: \")"
   ]
  },
  {
   "cell_type": "markdown",
   "id": "ea4cf88d",
   "metadata": {},
   "source": [
    "**6.How do you check the version of Python installed?**\n",
    "\n",
    "python --version"
   ]
  },
  {
   "cell_type": "markdown",
   "id": "0737430b",
   "metadata": {},
   "source": [
    "**7.Is Python case-sensitive? Give an example.**\n",
    "\n",
    "Yes."
   ]
  },
  {
   "cell_type": "markdown",
   "id": "b5b39329",
   "metadata": {},
   "source": [
    "**8.How do you run a Python script from the command line?**\n",
    "\n",
    "python script_name.py"
   ]
  },
  {
   "cell_type": "markdown",
   "id": "2b593fc7",
   "metadata": {},
   "source": [
    "**9. What are keywords in Python? How can you list them?**\n",
    "\n",
    "Keywords are reserved words that have special meaning in Python."
   ]
  },
  {
   "cell_type": "markdown",
   "id": "e3582607",
   "metadata": {},
   "source": [
    "**10.How do you declare a variable in Python?**\n",
    "\n",
    "age = 25\n",
    "name = \"Alice\"\n"
   ]
  },
  {
   "cell_type": "markdown",
   "id": "778c5e69",
   "metadata": {},
   "source": [
    "**11. What’s the difference between = and ==?**\n",
    "\n",
    "= → Assignment operator (assigns a value).\n",
    "\n",
    "== → Equality operator (checks if values are equal)."
   ]
  },
  {
   "cell_type": "markdown",
   "id": "2ea73d97",
   "metadata": {},
   "source": [
    "**12. How do you swap two variables without using a third variable?**\n",
    "\n",
    "a, b = b, a"
   ]
  },
  {
   "cell_type": "markdown",
   "id": "96e4fb45",
   "metadata": {},
   "source": [
    "**13. How do you write a one-line if statement?**\n",
    "\n",
    "if x > 10: print(\"x is greater than 10\")"
   ]
  },
  {
   "cell_type": "markdown",
   "id": "12e7ac6d",
   "metadata": {},
   "source": [
    "**14. What’s the difference between None and 0 in Python?**\n",
    "\n",
    "None → Special constant meaning “no value” or “null”.\n",
    "\n",
    "0 → Integer value zero (numeric)."
   ]
  },
  {
   "cell_type": "markdown",
   "id": "f92e168b",
   "metadata": {},
   "source": [
    "**15. What is indentation in Python and why is it important?**\n",
    "\n",
    "Indentation means spaces at the beginning of a line to define code blocks.\n",
    "It’s important because Python uses indentation instead of braces {} to define scope.\n",
    "Example:\n",
    "\n",
    "if True:\n",
    "    print(\"Indented block\")\n"
   ]
  },
  {
   "cell_type": "markdown",
   "id": "9b9ad0e7",
   "metadata": {},
   "source": [
    "## Data Types & Operations ##"
   ]
  },
  {
   "cell_type": "markdown",
   "id": "fe7c70e4",
   "metadata": {},
   "source": [
    "**16. What are Python’s built-in data types?**\n",
    "\n",
    "int, float, complex → Numeric types\n",
    "\n",
    "str → String\n",
    "\n",
    "list, tuple, range → Sequence types\n",
    "\n",
    "dict → Mapping type\n",
    "\n",
    "set, frozenset → Set types\n",
    "\n",
    "bool → Boolean\n",
    "\n",
    "bytes, bytearray, memoryview → Binary types\n",
    "\n",
    "NoneType → None"
   ]
  },
  {
   "cell_type": "markdown",
   "id": "7bdce81a",
   "metadata": {},
   "source": [
    "**17. How do you check the type of a variable?**\n",
    "\n",
    "type(x)"
   ]
  },
  {
   "cell_type": "markdown",
   "id": "b0a50e21",
   "metadata": {},
   "source": [
    "\n",
    "**18. Difference between a list and a tuple?**\n",
    "\n",
    "List → Mutable, written with [].\n",
    "\n",
    "Tuple → Immutable, written with ()."
   ]
  },
  {
   "cell_type": "markdown",
   "id": "cbb02b95",
   "metadata": {},
   "source": [
    "**19. How do you create a dictionary in Python?**\n",
    "\n",
    "my_dict = {\"name\": \"Alice\", \"age\": 25}"
   ]
  },
  {
   "cell_type": "markdown",
   "id": "fa23ad0e",
   "metadata": {},
   "source": [
    "\n",
    "**20. Difference between append() and extend() for lists?**\n",
    "\n",
    "append(x) → Adds x as a single element.\n",
    "\n",
    "extend(iterable) → Adds elements from another iterable.\n"
   ]
  },
  {
   "cell_type": "markdown",
   "id": "6ef5d4ee",
   "metadata": {},
   "source": [
    "**21. How do you remove an item from a list?**\n",
    "\n",
    "    my_list.remove(value)   # by value\n",
    "    my_list.pop(index)      # by index\n",
    "    del my_list[index]      # delete by index"
   ]
  },
  {
   "cell_type": "markdown",
   "id": "2ede0b1f",
   "metadata": {},
   "source": [
    "**22. How do you reverse a list in Python?**\n",
    "\n",
    "    my_list.reverse()        # in-place\n",
    "    reversed_list = my_list[::-1]  # copy reversed"
   ]
  },
  {
   "cell_type": "markdown",
   "id": "8e392aa2",
   "metadata": {},
   "source": [
    "**23. How do you sort a list in ascending order?**\n",
    "\n",
    "my_list.sort()\n",
    "\n",
    "\n",
    "**24. Difference between shallow copy and deep copy?**\n",
    "\n",
    "Shallow copy → Copies outer object only, inner objects are references. (copy.copy())\n",
    "\n",
    "Deep copy → Copies outer object and nested objects. (copy.deepcopy())\n",
    "\n",
    "**25. How do you convert a string to lowercase?**\n",
    "\n",
    "text.lower()\n",
    "\n",
    "\n",
    "**26. How do you check if a string starts with a particular word?**\n",
    "\n",
    "text.startswith(\"Hello\")\n",
    "\n",
    "\n",
    "**27. Difference between is and ==?**\n",
    "\n",
    "is → Checks object identity (same memory location).\n",
    "\n",
    "== → Checks value equality."
   ]
  },
  {
   "cell_type": "markdown",
   "id": "b4cee40d",
   "metadata": {},
   "source": [
    "\n",
    "**28. How do you merge two dictionaries in Python 3.9+?**\n",
    "\n",
    "dict3 = dict1 | dict2"
   ]
  },
  {
   "cell_type": "markdown",
   "id": "d308cca3",
   "metadata": {},
   "source": [
    "**29. How do you find the length of a dictionary?**\n",
    "\n",
    "len(my_dict)"
   ]
  },
  {
   "cell_type": "markdown",
   "id": "1986704c",
   "metadata": {},
   "source": [
    "**30. How do you create a set?**\n",
    "\n",
    "my_set = {1, 2, 3}"
   ]
  },
  {
   "cell_type": "markdown",
   "id": "f1ffd38e",
   "metadata": {},
   "source": [
    "**31. Difference between set() and {} in Python?**\n",
    "\n",
    "set() → Creates an empty set.\n",
    "\n",
    "{} → Creates an empty dictionary."
   ]
  },
  {
   "cell_type": "markdown",
   "id": "ddffdaab",
   "metadata": {},
   "source": [
    "**32. How do you find the union of two sets?**\n",
    "\n",
    "set1.union(set2)"
   ]
  },
  {
   "cell_type": "markdown",
   "id": "68eb8f4b",
   "metadata": {},
   "source": [
    "\n",
    "**33. How do you find the intersection of two sets?**\n",
    "\n",
    "set1.intersection(set2)\n"
   ]
  },
  {
   "cell_type": "markdown",
   "id": "076bc787",
   "metadata": {},
   "source": [
    "**34. Difference between remove() and discard() in sets?**\n",
    "\n",
    "remove(x) → Removes element x, raises error if not found.\n",
    "\n",
    "discard(x) → Removes element x if present, no error if not found.\n"
   ]
  },
  {
   "cell_type": "markdown",
   "id": "594a0985",
   "metadata": {},
   "source": [
    "**35. How do you convert a list into a tuple?**\n",
    "\n",
    "tuple(my_list)"
   ]
  },
  {
   "cell_type": "markdown",
   "id": "eae6b0da",
   "metadata": {},
   "source": [
    "## Control Flow ## "
   ]
  },
  {
   "cell_type": "markdown",
   "id": "97be7f2f",
   "metadata": {},
   "source": [
    "**36. How does the if-elif-else structure work in Python?**\n",
    "\n",
    "    if x > 0:\n",
    "        print(\"Positive\")\n",
    "    elif x < 0:\n",
    "        print(\"Negative\")\n",
    "    else:\n",
    "        print(\"Zero\")"
   ]
  },
  {
   "cell_type": "markdown",
   "id": "bc46b4ff",
   "metadata": {},
   "source": [
    "**37. Difference between for and while loops?**\n",
    "\n",
    "for → Iterates over a sequence.\n",
    "\n",
    "while → Runs until a condition becomes false."
   ]
  },
  {
   "cell_type": "markdown",
   "id": "0bdcd907",
   "metadata": {},
   "source": [
    "**38. How do you loop through a dictionary’s keys and values?**\n",
    "\n",
    "    for key, value in my_dict.items():\n",
    "        print(key, value)"
   ]
  },
  {
   "cell_type": "markdown",
   "id": "5efe4f56",
   "metadata": {},
   "source": [
    "**39. How do you break out of a loop?**\n",
    "\n",
    "break"
   ]
  },
  {
   "cell_type": "markdown",
   "id": "84663296",
   "metadata": {},
   "source": [
    "**40. How do you skip the current iteration in a loop?**\n",
    "\n",
    "continue"
   ]
  },
  {
   "cell_type": "markdown",
   "id": "0c7905eb",
   "metadata": {},
   "source": [
    "**41. What is an infinite loop? Example:**\n",
    "\n",
    "    Loop that never ends:\n",
    "\n",
    "    while True:\n",
    "        print(\"Hello\")"
   ]
  },
  {
   "cell_type": "markdown",
   "id": "fc94e26e",
   "metadata": {},
   "source": [
    "**42. How do you use the range() function?**\n",
    "\n",
    "range(start, stop, step)"
   ]
  },
  {
   "cell_type": "markdown",
   "id": "55cabbb3",
   "metadata": {},
   "source": [
    "**43. Difference between range(5) and range(1,5)?**\n",
    "\n",
    "range(5) → 0 to 4.\n",
    "\n",
    "range(1,5) → 1 to 4."
   ]
  },
  {
   "cell_type": "markdown",
   "id": "77045aef",
   "metadata": {},
   "source": [
    "**44. How do you iterate over both index and value in a list?**\n",
    "\n",
    "    for index, value in enumerate(my_list):\n",
    "        print(index, value)"
   ]
  },
  {
   "cell_type": "markdown",
   "id": "f5a3013f",
   "metadata": {},
   "source": [
    "**45. How does the else clause work with loops?**\n",
    "\n",
    "Executes if the loop completes normally (no break)."
   ]
  },
  {
   "cell_type": "markdown",
   "id": "726be89f",
   "metadata": {},
   "source": [
    "**46. How do you use a nested loop?**\n",
    "\n",
    "    for i in range(3):\n",
    "        for j in range(2):\n",
    "            print(i, j)"
   ]
  },
  {
   "cell_type": "markdown",
   "id": "080fac6c",
   "metadata": {},
   "source": [
    "**47. How do you loop through multiple lists simultaneously?**\n",
    "\n",
    "    for a, b in zip(list1, list2):\n",
    "        print(a, b)"
   ]
  },
  {
   "cell_type": "markdown",
   "id": "ce666c2b",
   "metadata": {},
   "source": [
    "**48. How do you reverse iterate over a list?**\n",
    "\n",
    "    for item in reversed(my_list):\n",
    "        print(item)"
   ]
  },
  {
   "cell_type": "markdown",
   "id": "bad5b12b",
   "metadata": {},
   "source": [
    "**49. What is a list comprehension? Example:**\n",
    "\n",
    "Compact syntax for creating lists.\n",
    "\n",
    "    squares = [x*x for x in range(5)]"
   ]
  },
  {
   "cell_type": "markdown",
   "id": "f760ae6b",
   "metadata": {},
   "source": [
    "**50. How do you use a conditional inside a list comprehension?**\n",
    "\n",
    "    even_numbers = [x for x in range(10) if x % 2 == 0]"
   ]
  },
  {
   "cell_type": "markdown",
   "id": "72e58622",
   "metadata": {},
   "source": [
    "## Functions ##"
   ]
  },
  {
   "cell_type": "markdown",
   "id": "6fb3e9b5",
   "metadata": {},
   "source": [
    "**51. How do you define a function in Python?**\n",
    "\n",
    "def greet():\n",
    "    print(\"Hello\")"
   ]
  },
  {
   "cell_type": "markdown",
   "id": "acc45c83",
   "metadata": {},
   "source": [
    "**52. Difference between positional and keyword arguments?**\n",
    "\n",
    "Positional → Order matters.\n",
    "Keyword → Named explicitly."
   ]
  },
  {
   "cell_type": "markdown",
   "id": "5ff31ad5",
   "metadata": {},
   "source": [
    "**53. What are default parameter values in functions?**\n",
    "\n",
    "    def greet(name=\"Guest\"):\n",
    "        print(\"Hello\", name)"
   ]
  },
  {
   "cell_type": "markdown",
   "id": "cf019e06",
   "metadata": {},
   "source": [
    "\n",
    "**54. How do you pass a variable number of arguments to a function?**\n",
    "\n",
    "*args → Variable positional arguments.\n",
    "\n",
    "**kwargs → Variable keyword arguments"
   ]
  },
  {
   "cell_type": "markdown",
   "id": "f9abd111",
   "metadata": {},
   "source": [
    "**55. How do you return multiple values from a function?**\n",
    "\n",
    "    def calc():\n",
    "        return 1, 2\n",
    "    a, b = calc()"
   ]
  },
  {
   "cell_type": "markdown",
   "id": "2197d4d6",
   "metadata": {},
   "source": [
    "**56. What is a lambda function? Example:**\n",
    "\n",
    "Small anonymous function.\n",
    "\n",
    "square = lambda x: x*x"
   ]
  },
  {
   "cell_type": "markdown",
   "id": "072baefe",
   "metadata": {},
   "source": [
    "**57. Difference between local and global variables?**\n",
    "\n",
    "Local → Defined inside function, accessible only there.\n",
    "\n",
    "Global → Defined outside, accessible everywhere."
   ]
  },
  {
   "cell_type": "markdown",
   "id": "8850223f",
   "metadata": {},
   "source": [
    "**58. How do you modify a global variable inside a function?**\n",
    "\n",
    "global x"
   ]
  },
  {
   "cell_type": "markdown",
   "id": "39212420",
   "metadata": {},
   "source": [
    "**59. What is recursion in Python? Example:**\n",
    "\n",
    "    Function calling itself.\n",
    "\n",
    "    def factorial(n):\n",
    "        return 1 if n == 0 else n * factorial(n-1)"
   ]
  },
  {
   "cell_type": "markdown",
   "id": "3a57b962",
   "metadata": {},
   "source": [
    "**60. What is a docstring in Python functions?**\n",
    "\n",
    "    def func():\n",
    "        \"\"\"This is a docstring.\"\"\""
   ]
  },
  {
   "cell_type": "markdown",
   "id": "17669bd9",
   "metadata": {},
   "source": [
    "**61. How do you use type hints in functions?**\n",
    "\n",
    "    def add(a: int, b: int) -> int:\n",
    "        return a + b"
   ]
  },
  {
   "cell_type": "markdown",
   "id": "c0c5bb23",
   "metadata": {},
   "source": [
    "**62. What are function annotations?**\n",
    "\n",
    "Metadata for parameters and return values (type hints are one example)."
   ]
  },
  {
   "cell_type": "markdown",
   "id": "3956ded3",
   "metadata": {},
   "source": [
    "**63. What is the purpose of the pass statement?**\n",
    "\n",
    "Placeholder for code to be added later."
   ]
  },
  {
   "cell_type": "markdown",
   "id": "18a0f3bd",
   "metadata": {},
   "source": [
    "## Object-Oriented Programming ##"
   ]
  },
  {
   "cell_type": "markdown",
   "id": "704b10f3",
   "metadata": {},
   "source": [
    "**66. How do you define a class in Python?**\n",
    "\n",
    "class Person:\n",
    "    pass"
   ]
  },
  {
   "cell_type": "markdown",
   "id": "aa3765ae",
   "metadata": {},
   "source": [
    "**67. How do you create an object from a class?**\n",
    "\n",
    "p = Person()"
   ]
  },
  {
   "cell_type": "markdown",
   "id": "60a9aa21",
   "metadata": {},
   "source": [
    "**68. What is __init__ in Python?**\n",
    "\n",
    "Constructor method for initializing objects."
   ]
  },
  {
   "cell_type": "markdown",
   "id": "0a6a67d9",
   "metadata": {},
   "source": [
    "**69. Difference between instance variables and class variables?**\n",
    "\n",
    "Instance → Belongs to object.\n",
    "\n",
    "Class → Shared by all objects."
   ]
  },
  {
   "cell_type": "markdown",
   "id": "61de192f",
   "metadata": {},
   "source": [
    "**70. What is inheritance in Python?**\n",
    "\n",
    "Mechanism to create a new class from an existing one."
   ]
  },
  {
   "cell_type": "markdown",
   "id": "656a806c",
   "metadata": {},
   "source": [
    "**71. How do you call a parent class constructor?**\n",
    "\n",
    "super().__init__()"
   ]
  },
  {
   "cell_type": "markdown",
   "id": "eca930b6",
   "metadata": {},
   "source": [
    "**72. Difference between method overloading and overriding?**\n",
    "\n",
    "Overloading → Same method name, different parameters (not natively supported in Python).\n",
    "\n",
    "Overriding → Child class changes parent method."
   ]
  },
  {
   "cell_type": "markdown",
   "id": "98b5e327",
   "metadata": {},
   "source": [
    "**73. What is multiple inheritance?**\n",
    "\n",
    "Class inheriting from more than one parent."
   ]
  },
  {
   "cell_type": "markdown",
   "id": "b5dcec7a",
   "metadata": {},
   "source": [
    "**74. What’s the role of super() in Python?**\n",
    "\n",
    "Calls a method from the parent class."
   ]
  },
  {
   "cell_type": "markdown",
   "id": "7fb304d9",
   "metadata": {},
   "source": [
    "**75. What are magic methods in Python? Examples:**\n",
    "\n",
    "Special methods with double underscores.\n",
    "        Examples:\n",
    "        \n",
    "                 __init__, __str__."
   ]
  },
  {
   "cell_type": "markdown",
   "id": "6def96a8",
   "metadata": {},
   "source": [
    "**76. What does __str__ do in a class?**\n",
    "\n",
    "Returns string representation of an object."
   ]
  },
  {
   "cell_type": "markdown",
   "id": "558cbbee",
   "metadata": {},
   "source": [
    "**77. What is polymorphism in Python?**\n",
    "\n",
    "Different classes having the same method name but different behavior."
   ]
  },
  {
   "cell_type": "markdown",
   "id": "1cb63198",
   "metadata": {},
   "source": [
    "**78. What is encapsulation in Python?**\n",
    "\n",
    "Restricting access to data (via private attributes)."
   ]
  },
  {
   "cell_type": "markdown",
   "id": "b6498a2a",
   "metadata": {},
   "source": [
    "**79. What are @staticmethod?**\n",
    "\n",
    "Methods bound to class, not instance."
   ]
  },
  {
   "cell_type": "markdown",
   "id": "b883e6e3",
   "metadata": {},
   "source": [
    "**80. How do you make an attribute private in Python?**\n",
    "\n",
    "Prefix with double underscore:\n",
    "\n",
    "self.__private_attr"
   ]
  },
  {
   "cell_type": "markdown",
   "id": "05fcb7b9",
   "metadata": {},
   "source": [
    "## Modules, Packages & File Handling ##"
   ]
  },
  {
   "cell_type": "markdown",
   "id": "5ec9ae50",
   "metadata": {},
   "source": [
    "**89. How do you import a module in Python?**\n",
    "\n",
    "import math"
   ]
  },
  {
   "cell_type": "markdown",
   "id": "b38b86a0",
   "metadata": {},
   "source": [
    "**90. Difference between import module and from module import?**\n",
    "\n",
    "import math → Must use math.sqrt()\n",
    "\n",
    "from math import sqrt → Use sqrt() directly."
   ]
  },
  {
   "cell_type": "markdown",
   "id": "366899d0",
   "metadata": {},
   "source": [
    "\n",
    "**91. How do you find the location of an imported module?**\n",
    "\n",
    "    import math\n",
    "    print(math.__file__)"
   ]
  },
  {
   "cell_type": "markdown",
   "id": "10570bfe",
   "metadata": {},
   "source": [
    "**92. How do you create your own module in Python?**\n",
    "\n",
    "Create a .py file with functions.\n",
    "\n",
    "Import it in another script with import."
   ]
  }
 ],
 "metadata": {
  "language_info": {
   "name": "python"
  }
 },
 "nbformat": 4,
 "nbformat_minor": 5
}
